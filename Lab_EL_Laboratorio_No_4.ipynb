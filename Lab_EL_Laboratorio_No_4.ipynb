{
  "nbformat": 4,
  "nbformat_minor": 0,
  "metadata": {
    "colab": {
      "provenance": [],
      "authorship_tag": "ABX9TyOOmXYJZoT9lCbd0ZsbTuk0",
      "include_colab_link": true
    },
    "kernelspec": {
      "name": "python3",
      "display_name": "Python 3"
    },
    "language_info": {
      "name": "python"
    }
  },
  "cells": [
    {
      "cell_type": "markdown",
      "metadata": {
        "id": "view-in-github",
        "colab_type": "text"
      },
      "source": [
        "<a href=\"https://colab.research.google.com/github/carlosHernandez3101/repo-unicauca-Laboratorio-Estructuras-de-Lenguajes/blob/main/Lab_EL_Laboratorio_No_4.ipynb\" target=\"_parent\"><img src=\"https://colab.research.google.com/assets/colab-badge.svg\" alt=\"Open In Colab\"/></a>"
      ]
    },
    {
      "cell_type": "markdown",
      "source": [
        "**LABORATORIO No 4**"
      ],
      "metadata": {
        "id": "po5Da3KCLt6S"
      }
    },
    {
      "cell_type": "markdown",
      "source": [
        "Implementar los siguientes ejercicios en Python utilizando Google Colaboratory"
      ],
      "metadata": {
        "id": "pi7Tc9MpNIcH"
      }
    },
    {
      "cell_type": "markdown",
      "source": [
        "**Ejercicio No. 1: Suma de números primos consecutivos**"
      ],
      "metadata": {
        "id": "8UNcqGXvTxyr"
      }
    },
    {
      "cell_type": "markdown",
      "source": [
        "Algunos números enteros positivos pueden representarse mediante la suma de\n",
        "uno o varios números primos consecutivos. ¿Cuántas representaciones de este\n",
        "tipo tiene un número entero positivo dado?\n",
        "Por ejemplo, el número entero 53 tiene dos representaciones\n",
        "\n",
        "*   5 + 7 + 11 + 13 + 17\n",
        "*   53\n",
        "\n",
        "El número entero 41 tiene tres representaciones\n",
        "\n",
        "*   2 + 3 + 5 + 7 + 11 + 13\n",
        "*   11 + 13 + 17\n",
        "*   41"
      ],
      "metadata": {
        "id": "rZ5fI4aJR5KE"
      }
    },
    {
      "cell_type": "markdown",
      "source": [
        "El entero 3 sólo tiene una representación, que es 3.\n",
        "\n",
        "El entero 20 no tiene ninguna de estas representaciones.\n",
        "\n",
        "Nótese que los sumandos deben ser números primos consecutivos, por lo que\n",
        "ni 7 + 13 ni 3 + 5 + 5 + 7 son representaciones válidas para el número entero 20.\n",
        "\n",
        "Debe escribir un programa que informe del número de representaciones para el número entero positivo dado.\n"
      ],
      "metadata": {
        "id": "metlt1siNRGF"
      }
    },
    {
      "cell_type": "markdown",
      "source": [
        "**Entrada:** La entrada es una secuencia de enteros positivos cada uno en una línea separada. Los enteros están comprendidos entre 2 y 10000, ambos\n",
        "inclusive. El final de la entrada se indica con un cero.\n"
      ],
      "metadata": {
        "id": "PMspXA-ETKaW"
      }
    },
    {
      "cell_type": "markdown",
      "source": [
        "**Salida:** La salida debe estar compuesta por líneas, cada una de las cuales corresponde a una línea de entrada, excepto el último cero. Una línea de salida Una línea de salida incluye el número de representaciones del número entero de entrada como suma de uno o más números primos consecutivos. consecutivos. No debe insertarse ningún otro carácter en la salida."
      ],
      "metadata": {
        "id": "iHPoNfPvTFuR"
      }
    },
    {
      "cell_type": "markdown",
      "source": [
        "![Screenshot_2.png](data:image/png;base64,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)"
      ],
      "metadata": {
        "id": "s9udFTKZPAbH"
      }
    },
    {
      "cell_type": "markdown",
      "source": [
        "**Solucion:**"
      ],
      "metadata": {
        "id": "XDadd1EmYZv9"
      }
    },
    {
      "cell_type": "markdown",
      "source": [
        "La funcion ***es_primo()*** recibe como parametro un numero **n** y verificara si este numero es primo."
      ],
      "metadata": {
        "id": "1K2EnQuIYAdZ"
      }
    },
    {
      "cell_type": "code",
      "source": [
        "def es_primo(n):\n",
        "    if n <= 1:\n",
        "        return False\n",
        "    if n <= 3:\n",
        "        return True\n",
        "    if n % 2 == 0 or n % 3 == 0:\n",
        "        return False\n",
        "    i = 5\n",
        "    while i * i <= n:\n",
        "        if n % i == 0 or n % (i + 2) == 0:\n",
        "            return False\n",
        "        i += 6\n",
        "    return True"
      ],
      "metadata": {
        "id": "5KHbmA6vXiBz"
      },
      "execution_count": null,
      "outputs": []
    },
    {
      "cell_type": "markdown",
      "source": [
        "La funcion ***count_prime_sum_representations()*** recibe un como parametro la variable **num** y cuenta el número de representaciones como una suma de números primos distintos.."
      ],
      "metadata": {
        "id": "_pXDAoD_YisX"
      }
    },
    {
      "cell_type": "code",
      "source": [
        "def count_prime_sum_representations(num):\n",
        "    count = 0\n",
        "    if num == 2 or num == 3:\n",
        "        return 1\n",
        "    for i in range(2, num // 2 + 1):\n",
        "        if es_primo(i):\n",
        "            current_sum = i\n",
        "            j = i + 1\n",
        "            while current_sum < num:\n",
        "                if es_primo(j):\n",
        "                    current_sum += j\n",
        "                    if current_sum == num:\n",
        "                        count += 1\n",
        "                j += 1\n",
        "    if count != 0:\n",
        "        return count + 1\n",
        "    return count"
      ],
      "metadata": {
        "id": "0JGaP6JMXvKc"
      },
      "execution_count": null,
      "outputs": []
    },
    {
      "cell_type": "markdown",
      "source": [
        "La variable **numeros_entrada** guarda la cadena ingresada por teclado. Al momento de ejecutar el programa se mostrara un mensaje de como ingresar la cadena de numeros."
      ],
      "metadata": {
        "id": "axAF-poXTuyH"
      }
    },
    {
      "cell_type": "code",
      "source": [
        "numeros_entrada = input(\"Ingrese los números deseados, separados por un espacio e indique al final con 0 para finalizar y presione enter:\\n\")"
      ],
      "metadata": {
        "colab": {
          "base_uri": "https://localhost:8080/"
        },
        "id": "qwKbUPAETtEv",
        "outputId": "a4cfeb2a-938b-485f-8e1c-9f63a26363fa"
      },
      "execution_count": null,
      "outputs": [
        {
          "name": "stdout",
          "output_type": "stream",
          "text": [
            "Ingrese los números deseados, separados por un espacio e indique al final con 0 para finalizar y presione enter:\n",
            "2 3 17 20 0\n"
          ]
        }
      ]
    },
    {
      "cell_type": "markdown",
      "source": [
        "Ahora, al contenido dentro de la variable **numeros_entrada** se le elimina los espacios iniciales o finales que pueda contener, a travez del llamado de la funcion para cadenas ***.strip()***, para luego, utilizar una nueva funcion llamada ***.split()***, que se encargara de eliminarme los espacios entre los numeros y crearme nuevas subcadenas.\n",
        "\n",
        "Ejemplo:\n",
        "\n",
        "    numeros_entrada = \" 1 2 3 0 \"\n",
        "\n",
        "    Con .split():\n",
        "      \"1 2 3 0\"\n",
        "    Con .strip():\n",
        "      [\"1\", \"2\", \"3\", \"0\"]\n",
        "    \n"
      ],
      "metadata": {
        "id": "aXG7YoS8U0AB"
      }
    },
    {
      "cell_type": "code",
      "source": [
        "numeros_entrada = numeros_entrada.strip().split()"
      ],
      "metadata": {
        "id": "foLMmqkjUVSm"
      },
      "execution_count": null,
      "outputs": []
    },
    {
      "cell_type": "markdown",
      "source": [
        "Creamos una nueva variable llamado numeros que sera de tipo lista de int, que se encargara de recibir la conversion de los elementos que contiene **numeros_entrada** que estan definidos como string por lo tanto para poder operarlos debemos hacer un respectivo casteo de tipos de variables de String a Int. Para realizar esta conversion utilizamos int(variable_a_castear). Con **numeros_entrada[:-1]** eliminamos el ultimo valor de la lista, en este caso \"0\" para luego recorrer el arreglo **numeros_entrada** y castear cada valor. Por ultimo se lo asignamos a **numeros**."
      ],
      "metadata": {
        "id": "FBvKn8GZXepn"
      }
    },
    {
      "cell_type": "code",
      "source": [
        "numeros = [int(numero) for numero in numeros_entrada[:-1]]"
      ],
      "metadata": {
        "id": "PDGuoWQdXa-2"
      },
      "execution_count": null,
      "outputs": []
    },
    {
      "cell_type": "markdown",
      "source": [
        "Luego, se procede a recorrer cada elemento de numeros para enviar ese valor de la lista, uno por uno, a la funcion ***count_prime_sum_representations()*** y obtener sus representaciones.\n",
        "Se tuvo en cuenta que se acepta numeros tanto primos como no primos, por lo tanto, se verificó lo anterior por medio del condicional. Además si **count** mayor que 0 y el numero al que le calculamos las representaciones es par se le resta 1, ya que a los numeros no primos no se les tiene en cuenta la representacion de el mismo."
      ],
      "metadata": {
        "id": "XS3SOt0kZcu-"
      }
    },
    {
      "cell_type": "code",
      "execution_count": null,
      "metadata": {
        "colab": {
          "base_uri": "https://localhost:8080/"
        },
        "id": "zxvj0ZdvKbIk",
        "outputId": "55c7dc69-7c3f-402c-fb4e-720934fa1e5b"
      },
      "outputs": [
        {
          "output_type": "stream",
          "name": "stdout",
          "text": [
            "\n",
            "2 1\n",
            "3 1\n",
            "17 2\n",
            "20 0\n"
          ]
        }
      ],
      "source": [
        "print()\n",
        "\n",
        "for i, numero in enumerate(numeros):\n",
        "    count = count_prime_sum_representations(numero)\n",
        "    if not es_primo(numero) and count > 0:\n",
        "        count -= 1\n",
        "    print(f\"{numero} {count}\")\n",
        "\n"
      ]
    },
    {
      "cell_type": "markdown",
      "source": [
        "**Ejercicio No. 2: Cifrado del César**"
      ],
      "metadata": {
        "id": "tkV3zZKGTm__"
      }
    },
    {
      "cell_type": "markdown",
      "source": [
        "El cifrado César es uno de los métodos de cifrado conocidos históricamente. Es un tipo de cifrado por sustitución en el que una letra en el texto original es reemplazada por otra letra que se encuentra un número fijo de posiciones más adelante en el alfabeto. Julio César lo usó para enviar órdenes a sus generales en los campos de batalla. Consistía en escribir el mensaje con un alfabeto que estaba formado por las letras del alfabeto latino normal desplazadas tres posiciones a la derecha. Con el alfabeto español se realizaría de la siguiente manera:"
      ],
      "metadata": {
        "id": "YLWC3chHT5yZ"
      }
    },
    {
      "cell_type": "markdown",
      "source": [
        "![Screenshot_3.png](data:image/png;base64,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)"
      ],
      "metadata": {
        "id": "PqHyd2HLUOtQ"
      }
    },
    {
      "cell_type": "markdown",
      "source": [
        "**Ejercicio No. 3: El juego de la vida**"
      ],
      "metadata": {
        "id": "cTW71m7tb6h9"
      }
    },
    {
      "cell_type": "markdown",
      "source": [
        "El \" Juego de Vida \" (autómata celular) es un juego diseñado por el matemático, John Horton Conway. Este juego tiene una gran semejanza con los procesos que determinan el surgimiento, decadencia y alteraciones que experimentan las sociedades de seres vivos. El mundo es una malla infinita formada por cuadros (celdas) o un espacio bidimensional, en la que cada una de las casillas puede albergar o no a un cierto individuo (células). Cada una de las casillas de la retícula está rodeada por otras 8 casillas que forman su vecindad.El mundo o la malla debe ser implementado usando una matriz cuadrada."
      ],
      "metadata": {
        "id": "cjl4ORv3cBy9"
      }
    },
    {
      "cell_type": "markdown",
      "source": [
        "REGLAS"
      ],
      "metadata": {
        "id": "8dM-DgHvcLs-"
      }
    },
    {
      "cell_type": "markdown",
      "source": [
        "\n",
        "\n",
        "1.   Los individuos se distribuyen aleatoriamente en una cuadricula de tamaño m*n, esta distribución inicial de los individuos componen la llamada generación inicial. Esta población evoluciona de acuerdo con unas reglas establecidas.\n",
        "\n",
        "2. Una iteración se completa cuando se ha revisado el estado de todos los\n",
        "individuos.\n",
        "\n",
        "3. Movimiento, un individuo se puede mover a una posición continua de forma\n",
        "aleatoria, siempre y cuando esta se encuentre disponible. El número de individuos que se mueve en una iteración no puede ser superior al 10% de la población.\n",
        "\n",
        "4.   Supervivencia: cada individuo con 2 ó 3 vecinos sobrevive y pasa a la\n",
        "generación siguiente.\n",
        "\n",
        "5.   Fallecimiento: Cada individuo con menos de 2 vecinos fallece por aislamiento, y cada individuo con más de 3 vecinos fallece por superpoblación.\n",
        "\n",
        "6. Nacimientos: si una casilla vacía tiene en su vecindad exactamente a 3 individuos, en la siguiente generación esa casilla contendrá un nuevo individuo.\n",
        "\n",
        "7.   Una célula muerta con exactamente 3 células vecinas vivas \"nace\" (al turno siguiente estará viva).\n",
        "\n",
        "8.   Una célula viva con 2 ó 3 células vecinas vivas sigue viva, en otro caso muere o permanece muerta (por \"soledad\" o \"superpoblación\").\n",
        "\n",
        "\n",
        "\n",
        "\n",
        "\n",
        "\n",
        "\n",
        "\n"
      ],
      "metadata": {
        "id": "zW0dLvkwcT1u"
      }
    },
    {
      "cell_type": "markdown",
      "source": [
        "**Solución:**"
      ],
      "metadata": {
        "id": "7f2c2XnkeAnN"
      }
    },
    {
      "cell_type": "markdown",
      "source": [
        "Para implementar la solucion al ejercicio se debio importar las librerias necesarias para mostrar la simulacion de las celulas."
      ],
      "metadata": {
        "id": "_uhUGW7ZeIjN"
      }
    },
    {
      "cell_type": "markdown",
      "source": [
        "Los módulos **`os`**, **`random`** y **`time`** se importan en el código para realizar tareas específicas:\n",
        "\n",
        "1. El módulo **`os`** se utiliza para realizar operaciones relacionadas con el sistema operativo, como borrar la pantalla en el caso de sistemas tipo Unix/Linux utilizando **`os.system(\"clear\")`**. Esto es útil para limpiar la pantalla antes de imprimir el nuevo estado del tablero en cada generación.\n",
        "\n",
        "2. El módulo **`random`** se utiliza para generar números aleatorios. En el código, se utiliza **`random.randint(0, 1)`** para asignar valores aleatorios (0 o 1) a las células del tablero en la inicialización. Esto crea un tablero inicial con células vivas y muertas distribuidas aleatoriamente.\n",
        "\n",
        "3. El módulo **`time`** se utiliza para introducir una pausa en el programa utilizando **`time.sleep(0.1)`**. Esto provoca una pausa de 0.1 segundos entre generaciones del juego, lo que ralentiza la velocidad de reproducción del juego y permite que se pueda observar el cambio en el estado del tablero en cada generación."
      ],
      "metadata": {
        "id": "2IvhEL-hedl-"
      }
    },
    {
      "cell_type": "code",
      "source": [
        "import os\n",
        "import random\n",
        "import time"
      ],
      "metadata": {
        "id": "KDFtWzFjL3Zl"
      },
      "execution_count": null,
      "outputs": []
    },
    {
      "cell_type": "markdown",
      "source": [
        "\n",
        "Las variables **FILAS** y **COLUMNAS** se utilizan para definir las dimensiones del tablero en el juego de la vida de Conway. Estas dimensiones determinan cuántas filas y columnas tendrá el tablero en el que se desarrollará el juego. Estos valores pueden ser ajustados según las preferencias del programador o los requisitos del juego."
      ],
      "metadata": {
        "id": "x_smBGyufPrd"
      }
    },
    {
      "cell_type": "code",
      "source": [
        "FILAS = 20\n",
        "COLUMNAS = 40"
      ],
      "metadata": {
        "id": "IGBlgAlefVn9"
      },
      "execution_count": null,
      "outputs": []
    },
    {
      "cell_type": "markdown",
      "source": [
        "La función ***`imprimir_tablero(tablero)`*** toma una matriz tablero y la imprime en la pantalla, utilizando \"#\" para representar células vivas (1) y \" \" (espacio en blanco) para células muertas (0). Se utiliza **`os.system(\"clear\")`** para borrar la pantalla antes de imprimir el nuevo estado del tablero."
      ],
      "metadata": {
        "id": "6dGzABa4fw69"
      }
    },
    {
      "cell_type": "code",
      "source": [
        "def imprimir_tablero(tablero):\n",
        "    os.system(\"clear\")  # Cambiar a \"cls\" en Windows\n",
        "    for fila in tablero:\n",
        "        print(\"\".join(\"#\" if celula == 1 else \" \" for celula in fila))"
      ],
      "metadata": {
        "id": "taQ4MF3WfxXV"
      },
      "execution_count": null,
      "outputs": []
    },
    {
      "cell_type": "markdown",
      "source": [
        "***`siguiente_generacion(tablero)`***: permite calcular el siguiente estado del tablero de acuerdo con las reglas del juego de la vida de Conway. Crea un nuevo tablero **nuevo_tablero** y aplica las reglas a cada célula del tablero original tablero, luego copia el nuevo tablero de nuevo al tablero original."
      ],
      "metadata": {
        "id": "TjuxbgrYgfQe"
      }
    },
    {
      "cell_type": "code",
      "source": [
        "def siguiente_generacion(tablero):\n",
        "    nuevo_tablero = [[0] * COLUMNAS for _ in range(FILAS)]\n",
        "\n",
        "    for i in range(FILAS):\n",
        "        for j in range(COLUMNAS):\n",
        "            vecinos_vivos = 0\n",
        "\n",
        "            # Contar vecinos vivos\n",
        "            for x in range(-1, 2):\n",
        "                for y in range(-1, 2):\n",
        "                    if x == 0 and y == 0:\n",
        "                        continue\n",
        "                    if 0 <= i + x < FILAS and 0 <= j + y < COLUMNAS:\n",
        "                        vecinos_vivos += tablero[i + x][j + y]\n",
        "\n",
        "            # Aplicar reglas del juego\n",
        "            nuevo_tablero[i][j] = tablero[i][j]\n",
        "            if tablero[i][j] == 1:\n",
        "                if vecinos_vivos < 2 or vecinos_vivos > 3:\n",
        "                    nuevo_tablero[i][j] = 0\n",
        "            else:\n",
        "                if vecinos_vivos == 3:\n",
        "                    nuevo_tablero[i][j] = 1\n",
        "\n",
        "    # Copiar el nuevo tablero al original\n",
        "    for i in range(FILAS):\n",
        "        for j in range(COLUMNAS):\n",
        "            tablero[i][j] = nuevo_tablero[i][j]"
      ],
      "metadata": {
        "id": "lx8jbjQKgjsd"
      },
      "execution_count": null,
      "outputs": []
    },
    {
      "cell_type": "markdown",
      "source": [
        "Ahora en ***`main()`*** se inicializa el tablero con células vivas o muertas de manera aleatoria, luego entra en un bucle infinito donde muestra el tablero, calcula la siguiente generación y espera 0.1 segundos antes de continuar. El juego continuará ejecutándose indefinidamente hasta que se detenga manualmente.\n",
        "\n"
      ],
      "metadata": {
        "id": "zXIbAaBehWvF"
      }
    },
    {
      "cell_type": "code",
      "source": [
        "tablero = [[random.randint(0, 1) for _ in range(COLUMNAS)] for _ in range(FILAS)]\n",
        "\n",
        "while True:\n",
        "    imprimir_tablero(tablero)\n",
        "    siguiente_generacion(tablero)\n",
        "    time.sleep(0.1)"
      ],
      "metadata": {
        "id": "fTk4KJvjhWgN"
      },
      "execution_count": null,
      "outputs": []
    }
  ]
}